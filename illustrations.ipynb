{
 "cells": [
  {
   "cell_type": "code",
   "execution_count": 3,
   "metadata": {},
   "outputs": [],
   "source": [
    "# Import radial_velocity_functions :: Run this to reimport without having to restart the whole notebook\n",
    "import radial_velocity_functions\n",
    "import importlib\n",
    "importlib.reload(radial_velocity_functions)\n",
    "from radial_velocity_functions import *"
   ]
  },
  {
   "cell_type": "code",
   "execution_count": 4,
   "metadata": {},
   "outputs": [],
   "source": [
    "# Import calibration functions :: Run this to reimport without having to restart the whole notebook\n",
    "import calibration_functions\n",
    "importlib.reload(calibration_functions)\n",
    "from calibration_functions import *"
   ]
  },
  {
   "cell_type": "code",
   "execution_count": 5,
   "metadata": {},
   "outputs": [],
   "source": [
    "import numpy as np\n",
    "import matplotlib.pyplot as plt\n",
    "from astropy.io import fits\n",
    "import tqdm as tqdm\n",
    "from tqdm import tqdm\n",
    "import pandas as pd\n",
    "from datetime import datetime\n",
    "from scipy.interpolate import interp1d\n",
    "\n",
    "plt.rcParams['font.size'] = 16\n",
    "plt.rc(\"font\", family=\"serif\")\n",
    "\n",
    "from os import walk"
   ]
  },
  {
   "cell_type": "markdown",
   "metadata": {},
   "source": [
    "#### Illustration of the spectrum splitting into orders"
   ]
  },
  {
   "cell_type": "code",
   "execution_count": 49,
   "metadata": {},
   "outputs": [],
   "source": [
    "# Code to convert wavelength to RGB\n",
    "\n",
    "import sys\n",
    "import os\n",
    "import traceback\n",
    "import optparse\n",
    "import time\n",
    "import logging\n",
    "\n",
    "def wavelength_to_hex(wavelength, gamma=0.8):\n",
    "    \"\"\" Modified this to return hex values \"\"\"\n",
    "\n",
    "\n",
    "    '''This converts a given wavelength of light to an \n",
    "    approximate RGB color value. The wavelength must be given\n",
    "    in nanometers in the range from 380 nm through 750 nm\n",
    "    (789 THz through 400 THz).\n",
    "\n",
    "    Based on code by Dan Bruton\n",
    "    http://www.physics.sfasu.edu/astro/color/spectra.html\n",
    "    '''\n",
    "\n",
    "    wavelength = float(wavelength)\n",
    "    if wavelength >= 380 and wavelength <= 440:\n",
    "        attenuation = 0.3 + 0.7 * (wavelength - 380) / (440 - 380)\n",
    "        R = ((-(wavelength - 440) / (440 - 380)) * attenuation) ** gamma\n",
    "        G = 0.0\n",
    "        B = (1.0 * attenuation) ** gamma\n",
    "    elif wavelength >= 440 and wavelength <= 490:\n",
    "        R = 0.0\n",
    "        G = ((wavelength - 440) / (490 - 440)) ** gamma\n",
    "        B = 1.0\n",
    "    elif wavelength >= 490 and wavelength <= 510:\n",
    "        R = 0.0\n",
    "        G = 1.0\n",
    "        B = (-(wavelength - 510) / (510 - 490)) ** gamma\n",
    "    elif wavelength >= 510 and wavelength <= 580:\n",
    "        R = ((wavelength - 510) / (580 - 510)) ** gamma\n",
    "        G = 1.0\n",
    "        B = 0.0\n",
    "    elif wavelength >= 580 and wavelength <= 645:\n",
    "        R = 1.0\n",
    "        G = (-(wavelength - 645) / (645 - 580)) ** gamma\n",
    "        B = 0.0\n",
    "    elif wavelength >= 645 and wavelength <= 750:\n",
    "        attenuation = 0.3 + 0.7 * (750 - wavelength) / (750 - 645)\n",
    "        R = (1.0 * attenuation) ** gamma\n",
    "        G = 0.0\n",
    "        B = 0.0\n",
    "    else:\n",
    "        R = 0.0\n",
    "        G = 0.0\n",
    "        B = 0.0\n",
    "    R *= 255\n",
    "    G *= 255\n",
    "    B *= 255\n",
    "\n",
    "    r = int(R)\n",
    "    g = int(G)\n",
    "    b = int(B)\n",
    "\n",
    "    hex = \"#{:02x}{:02x}{:02x}\".format(r,g,b)\n",
    "    return hex"
   ]
  },
  {
   "cell_type": "code",
   "execution_count": 50,
   "metadata": {},
   "outputs": [],
   "source": [
    "filename = r\"expres_tp/LFC_200907.1063.fits\"\n",
    "hdu1 = fits.open(filename)\n",
    "data = hdu1[1].data.copy()"
   ]
  },
  {
   "cell_type": "code",
   "execution_count": 51,
   "metadata": {},
   "outputs": [],
   "source": [
    "\n",
    "\n",
    "wavel = data[\"wavelength\"]\n",
    "x_len = len(wavel[0])\n",
    "y_len = len(wavel)\n",
    "matrix = np.empty((x_len, y_len), dtype=str)\n",
    "matrix[:] = str(None)\n",
    "for order in np.arange(len(wavel)):\n",
    "    for pixel in np.arange(len(wavel[order])):\n",
    "        lamb = wavel[order][pixel] \n",
    "        lamb = lamb * 0.1 # convert A -> nm\n",
    "        hex = str(None)\n",
    "        if lamb > 380 and lamb < 750:\n",
    "            hex = wavelength_to_hex(lamb)\n",
    "        matrix[pixel, order] = hex\n",
    "\n",
    "\n",
    "# plt.figure(figsize=(16, 8))\n",
    "# # plt.imshow(matrix, aspect=\"auto\")\n",
    "# plt.imshow(x=(x_len, y_len, matrix))\n",
    "\n",
    "# orders_pix = np.array([data['wavelength'][o] for o in np.arange(len(data['wavelength']))]) # create 2d array\n",
    "# plt.figure(figsize=(16, 8))\n",
    "# plt.imshow(orders_pix, aspect=\"auto\")"
   ]
  },
  {
   "cell_type": "markdown",
   "metadata": {},
   "source": [
    "This is harder than expected and thinking about it, won't look very good with 86 orders anyway, you won't be able to see the individual colors, so I wil just make a dummy graphs."
   ]
  },
  {
   "cell_type": "code",
   "execution_count": 73,
   "metadata": {},
   "outputs": [
    {
     "data": {
      "text/plain": [
       "Text(0, 0.5, 'Order')"
      ]
     },
     "execution_count": 73,
     "metadata": {},
     "output_type": "execute_result"
    },
    {
     "data": {
      "image/png": "[encoded data removed]",
      "text/plain": [
       "<Figure size 576x288 with 1 Axes>"
      ]
     },
     "metadata": {
      "needs_background": "light"
     },
     "output_type": "display_data"
    }
   ],
   "source": [
    "matrix = np.flip(np.arange(1000)).reshape(10, -1)\n",
    "plt.figure(figsize=(8, 4))\n",
    "plt.imshow(matrix, aspect=\"auto\", cmap=\"gist_rainbow\")\n",
    "plt.xlabel(\"Pixel\")\n",
    "plt.ylabel(\"Order\")"
   ]
  },
  {
   "cell_type": "markdown",
   "metadata": {},
   "source": [
    "### Flat p-dist\n"
   ]
  },
  {
   "cell_type": "code",
   "execution_count": 100,
   "metadata": {},
   "outputs": [],
   "source": [
    "def super_gauss(x, A=0.5, mu=0, sigma=-1.677, P=1.3, C=0, b = 0):\n",
    "    z = (x - mu)**2 / (2 * sigma**2)\n",
    "    return A * np.exp(-z**P) + C + b * (x - mu)\n",
    "\n",
    "\n",
    "N_try = 0\n",
    "N_points = 100000\n",
    "x_accepted = np.zeros(N_points)\n",
    "xmin, xmax = -10, 10\n",
    "ymin, ymax = 0, 1\n",
    "\n",
    "for i in range(N_points):\n",
    "    \n",
    "    while True:\n",
    "        \n",
    "        # Count the number of tries, to get efficiency/integral\n",
    "        N_try += 1                    \n",
    "        \n",
    "        # Range that f(x) is defined/wanted in:\n",
    "        x_test = np.random.uniform(xmin, xmax)  \n",
    "        \n",
    "        # Upper bound for function values:\n",
    "        y_test = np.random.uniform(ymin, ymax)\n",
    "        \n",
    "        # If random y-value is under the function value, accept\n",
    "        if super_gauss(x_test) > y_test:\n",
    "            break\n",
    "\n",
    "    x_accepted[i] = x_test\n"
   ]
  },
  {
   "cell_type": "code",
   "execution_count": 116,
   "metadata": {},
   "outputs": [
    {
     "data": {
      "text/plain": [
       "Text(0.5, 1.0, 'P-value dist')"
      ]
     },
     "execution_count": 116,
     "metadata": {},
     "output_type": "execute_result"
    },
    {
     "data": {
      "image/png": "[encoded data removed]",
      "text/plain": [
       "<Figure size 720x216 with 2 Axes>"
      ]
     },
     "metadata": {
      "needs_background": "light"
     },
     "output_type": "display_data"
    }
   ],
   "source": [
    "# xlin = np.linspace(-10, 10, 1000)\n",
    "# plt.plot(xlin, super_gauss(xlin))\n",
    "\n",
    "fig, (ax1, ax2) = plt.subplots(ncols=2, figsize=(10,3))\n",
    "ax1.hist(x_accepted, bins=100);\n",
    "ax1.set_title(\"Super gauss dist\")\n",
    "\n",
    "from scipy import stats\n",
    "ax2.hist(stats.norm.cdf(x_accepted), bins=100);\n",
    "ax2.set_title(\"P-value dist\")\n"
   ]
  },
  {
   "cell_type": "code",
   "execution_count": 102,
   "metadata": {},
   "outputs": [
    {
     "data": {
      "image/png": "[encoded data removed]",
      "text/plain": [
       "<Figure size 432x288 with 1 Axes>"
      ]
     },
     "metadata": {
      "needs_background": "light"
     },
     "output_type": "display_data"
    }
   ],
   "source": []
  },
  {
   "cell_type": "code",
   "execution_count": 106,
   "metadata": {},
   "outputs": [
    {
     "name": "stdout",
     "output_type": "stream",
     "text": [
      "-1.4319456312216552 0.07607969083069267\n",
      "0.2947775984879364 0.6159181098681656\n",
      "3.8970670550447224 0.999951317666229\n",
      "-1.047911956378364 0.14733958654017754\n",
      "-0.2600045757388152 0.3974301220129265\n",
      "0.17613948319558936 0.5699078186465711\n",
      "2.5655185327972916 0.9948489141157774\n",
      "1.6617791303389478 0.9517214658979878\n",
      "0.3484669162601861 0.6362552221587721\n",
      "-1.1747080904540592 0.12005576073408719\n",
      "0.9191662175924105 0.82099568091175\n",
      "-1.2897900515053422 0.09856178151596279\n",
      "-1.247744231255858 0.10606236884134496\n",
      "-1.8028770947202055 0.035703759498764684\n",
      "0.05669802399418167 0.5226071259451796\n",
      "-1.3522522477171623 0.0881473173585241\n",
      "1.5879517002832522 0.9438513693205252\n",
      "0.9419360911024981 0.8268873195730813\n",
      "3.0895435014974666 0.9989976782627035\n",
      "-0.17208306782613292 0.43168611205286134\n",
      "-1.7345118579445327 0.04141365181141107\n",
      "-3.7548294416101484 8.672977837023868e-05\n",
      "1.6043862369665707 0.9456855285893657\n",
      "-1.2406224323028088 0.10737263055515872\n",
      "-0.2577052183766355 0.3983172092139387\n",
      "1.2541044014815839 0.8950979696183738\n",
      "0.6353835740647913 0.7374108607887164\n",
      "1.265091617244547 0.8970807562366143\n",
      "-1.8704498253666113 0.03071068919814403\n",
      "-0.5159366447164953 0.3029493296078387\n",
      "1.661862744850385 0.9517298509796961\n",
      "0.8232206675224223 0.7948087410346698\n",
      "1.7021827252338255 0.9556394399784882\n",
      "-0.027212451325823395 0.48914514233131795\n",
      "-1.5055724602768947 0.06608848130272081\n",
      "-0.3602098856507858 0.35934509127663666\n",
      "2.391605902295966 0.9916125781355087\n",
      "-2.085600739026221 0.01850740217989888\n",
      "0.7216032946564521 0.7647307935145973\n",
      "0.4013881588885777 0.6559328170109189\n",
      "-2.115220038383951 0.017205598922668337\n",
      "0.5878564213449877 0.7216856653635328\n",
      "-2.580695359349951 0.00493007748471202\n",
      "-1.4416573153246208 0.0746995354048769\n",
      "1.5057324816687547 0.9339320689716432\n",
      "0.6187324511581522 0.7319536858947019\n",
      "-2.615210955936882 0.0044586180360388535\n",
      "-1.3530384645667546 0.08802167123616494\n",
      "-2.2864849896346424 0.011112950638917676\n",
      "1.0766755224887845 0.8591873743051857\n",
      "0.1382089917601661 0.5549623755490182\n",
      "0.8602827944863289 0.8051834125905131\n",
      "-2.061923219666319 0.01960752324698825\n",
      "0.6910087186314087 0.75521996898954\n",
      "0.6920007522523903 0.7555315717100258\n",
      "-1.7951102796473961 0.03631806563885129\n",
      "0.8326083401729107 0.7974671731198473\n",
      "-2.7782084928083535 0.0027329766739036107\n",
      "0.94353119022729 0.8272953653052914\n",
      "-1.4909099731493534 0.06799256630802925\n",
      "-0.3336647448694503 0.36931627793683086\n",
      "1.0518520356781291 0.8535662796109598\n",
      "1.0644002672745785 0.8564262936180771\n",
      "-1.9635311895836232 0.02479224201957913\n",
      "-1.7463475608991885 0.04037528805725873\n",
      "0.6186559063519947 0.731928468185495\n",
      "-1.0146610145719208 0.15513372192526514\n",
      "2.586185189894131 0.9951477612695288\n",
      "-0.7977900837855003 0.21249615836500535\n",
      "-0.014529872596556359 0.49420362344556756\n",
      "0.4672340763449867 0.6798337919930632\n",
      "1.019580221129896 0.8460362053333825\n",
      "1.5781415396847631 0.9427334515184601\n",
      "2.0944073490708615 0.9818881456672258\n",
      "-0.8561079527329518 0.19596903506885766\n",
      "1.4504890888174273 0.926538910143361\n",
      "2.371617195060365 0.9911447854517743\n",
      "-0.19080296127801688 0.4243399842729189\n",
      "1.5013978705539426 0.9333736578259428\n",
      "2.02352276725421 0.9784903606478476\n",
      "-1.4171996091955013 0.07821228801314964\n",
      "-0.4857812762514957 0.3135611254668206\n",
      "-0.6515055855758618 0.2573600863214225\n",
      "2.3855592622361126 0.9914734127160639\n",
      "-0.4081843845386608 0.34156915578660263\n",
      "-2.154644856097356 0.015594818024862088\n",
      "-0.39848041919061394 0.3451380445229655\n",
      "-1.9590551170737882 0.025053166154832756\n",
      "1.2423186844852943 0.8929404978842146\n",
      "0.5013266753506898 0.6919293826474819\n",
      "2.0502402644817153 0.9798295046966792\n",
      "-0.629628998249709 0.26446867320465955\n",
      "0.4161075206621341 0.6613343365165725\n",
      "2.3135028640618156 0.9896524962628442\n",
      "-1.0669822612109865 0.14298992311705583\n",
      "2.726944099863813 0.9968038066258295\n",
      "0.8989696622230188 0.8156655898638545\n",
      "-0.12869249639513924 0.4488004865224653\n",
      "-0.14847278888778526 0.4409848296239911\n",
      "-1.0029451119519663 0.157943672445984\n"
     ]
    }
   ],
   "source": [
    "for n in np.arange(100):\n",
    "    print(x_accepted[n], stats.norm.cdf(x_accepted[n]))"
   ]
  },
  {
   "cell_type": "code",
   "execution_count": 112,
   "metadata": {},
   "outputs": [
    {
     "data": {
      "text/plain": [
       "0.8413447460685429"
      ]
     },
     "execution_count": 112,
     "metadata": {},
     "output_type": "execute_result"
    }
   ],
   "source": [
    "stats.norm.cdf(1)"
   ]
  },
  {
   "cell_type": "code",
   "execution_count": null,
   "metadata": {},
   "outputs": [],
   "source": []
  }
 ],
 "metadata": {
  "interpreter": {
   "hash": "16bd1ac509cec15e0f15308885d0d327f878f8e8c6bf767c6b4150ef364ec0fd"
  },
  "kernelspec": {
   "display_name": "Python 3.9.7 ('bsc_project')",
   "language": "python",
   "name": "python3"
  },
  "language_info": {
   "codemirror_mode": {
    "name": "ipython",
    "version": 3
   },
   "file_extension": ".py",
   "mimetype": "text/x-python",
   "name": "python",
   "nbconvert_exporter": "python",
   "pygments_lexer": "ipython3",
   "version": "3.9.7"
  },
  "orig_nbformat": 4
 },
 "nbformat": 4,
 "nbformat_minor": 2
}
