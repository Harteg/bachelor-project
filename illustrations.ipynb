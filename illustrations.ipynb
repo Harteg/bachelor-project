{
 "cells": [
  {
   "cell_type": "code",
   "execution_count": 3,
   "metadata": {},
   "outputs": [],
   "source": [
    "# Import radial_velocity_functions :: Run this to reimport without having to restart the whole notebook\n",
    "import radial_velocity_functions\n",
    "import importlib\n",
    "importlib.reload(radial_velocity_functions)\n",
    "from radial_velocity_functions import *"
   ]
  },
  {
   "cell_type": "code",
   "execution_count": 4,
   "metadata": {},
   "outputs": [],
   "source": [
    "# Import calibration functions :: Run this to reimport without having to restart the whole notebook\n",
    "import calibration_functions\n",
    "importlib.reload(calibration_functions)\n",
    "from calibration_functions import *"
   ]
  },
  {
   "cell_type": "code",
   "execution_count": 5,
   "metadata": {},
   "outputs": [],
   "source": [
    "import numpy as np\n",
    "import matplotlib.pyplot as plt\n",
    "from astropy.io import fits\n",
    "import tqdm as tqdm\n",
    "from tqdm import tqdm\n",
    "import pandas as pd\n",
    "from datetime import datetime\n",
    "from scipy.interpolate import interp1d\n",
    "\n",
    "plt.rcParams['font.size'] = 16\n",
    "plt.rc(\"font\", family=\"serif\")\n",
    "\n",
    "from os import walk"
   ]
  },
  {
   "cell_type": "markdown",
   "metadata": {},
   "source": [
    "#### Illustration of the spectrum splitting into orders"
   ]
  },
  {
   "cell_type": "code",
   "execution_count": 49,
   "metadata": {},
   "outputs": [],
   "source": [
    "# Code to convert wavelength to RGB\n",
    "\n",
    "import sys\n",
    "import os\n",
    "import traceback\n",
    "import optparse\n",
    "import time\n",
    "import logging\n",
    "\n",
    "def wavelength_to_hex(wavelength, gamma=0.8):\n",
    "    \"\"\" Modified this to return hex values \"\"\"\n",
    "\n",
    "\n",
    "    '''This converts a given wavelength of light to an \n",
    "    approximate RGB color value. The wavelength must be given\n",
    "    in nanometers in the range from 380 nm through 750 nm\n",
    "    (789 THz through 400 THz).\n",
    "\n",
    "    Based on code by Dan Bruton\n",
    "    http://www.physics.sfasu.edu/astro/color/spectra.html\n",
    "    '''\n",
    "\n",
    "    wavelength = float(wavelength)\n",
    "    if wavelength >= 380 and wavelength <= 440:\n",
    "        attenuation = 0.3 + 0.7 * (wavelength - 380) / (440 - 380)\n",
    "        R = ((-(wavelength - 440) / (440 - 380)) * attenuation) ** gamma\n",
    "        G = 0.0\n",
    "        B = (1.0 * attenuation) ** gamma\n",
    "    elif wavelength >= 440 and wavelength <= 490:\n",
    "        R = 0.0\n",
    "        G = ((wavelength - 440) / (490 - 440)) ** gamma\n",
    "        B = 1.0\n",
    "    elif wavelength >= 490 and wavelength <= 510:\n",
    "        R = 0.0\n",
    "        G = 1.0\n",
    "        B = (-(wavelength - 510) / (510 - 490)) ** gamma\n",
    "    elif wavelength >= 510 and wavelength <= 580:\n",
    "        R = ((wavelength - 510) / (580 - 510)) ** gamma\n",
    "        G = 1.0\n",
    "        B = 0.0\n",
    "    elif wavelength >= 580 and wavelength <= 645:\n",
    "        R = 1.0\n",
    "        G = (-(wavelength - 645) / (645 - 580)) ** gamma\n",
    "        B = 0.0\n",
    "    elif wavelength >= 645 and wavelength <= 750:\n",
    "        attenuation = 0.3 + 0.7 * (750 - wavelength) / (750 - 645)\n",
    "        R = (1.0 * attenuation) ** gamma\n",
    "        G = 0.0\n",
    "        B = 0.0\n",
    "    else:\n",
    "        R = 0.0\n",
    "        G = 0.0\n",
    "        B = 0.0\n",
    "    R *= 255\n",
    "    G *= 255\n",
    "    B *= 255\n",
    "\n",
    "    r = int(R)\n",
    "    g = int(G)\n",
    "    b = int(B)\n",
    "\n",
    "    hex = \"#{:02x}{:02x}{:02x}\".format(r,g,b)\n",
    "    return hex"
   ]
  },
  {
   "cell_type": "code",
   "execution_count": 50,
   "metadata": {},
   "outputs": [],
   "source": [
    "filename = r\"expres_tp/LFC_200907.1063.fits\"\n",
    "hdu1 = fits.open(filename)\n",
    "data = hdu1[1].data.copy()"
   ]
  },
  {
   "cell_type": "code",
   "execution_count": 51,
   "metadata": {},
   "outputs": [],
   "source": [
    "\n",
    "\n",
    "wavel = data[\"wavelength\"]\n",
    "x_len = len(wavel[0])\n",
    "y_len = len(wavel)\n",
    "matrix = np.empty((x_len, y_len), dtype=str)\n",
    "matrix[:] = str(None)\n",
    "for order in np.arange(len(wavel)):\n",
    "    for pixel in np.arange(len(wavel[order])):\n",
    "        lamb = wavel[order][pixel] \n",
    "        lamb = lamb * 0.1 # convert A -> nm\n",
    "        hex = str(None)\n",
    "        if lamb > 380 and lamb < 750:\n",
    "            hex = wavelength_to_hex(lamb)\n",
    "        matrix[pixel, order] = hex\n",
    "\n",
    "\n",
    "# plt.figure(figsize=(16, 8))\n",
    "# # plt.imshow(matrix, aspect=\"auto\")\n",
    "# plt.imshow(x=(x_len, y_len, matrix))\n",
    "\n",
    "# orders_pix = np.array([data['wavelength'][o] for o in np.arange(len(data['wavelength']))]) # create 2d array\n",
    "# plt.figure(figsize=(16, 8))\n",
    "# plt.imshow(orders_pix, aspect=\"auto\")"
   ]
  },
  {
   "cell_type": "markdown",
   "metadata": {},
   "source": [
    "This is harder than expected and thinking about it, won't look very good with 86 orders anyway, you won't be able to see the individual colors, so I wil just make a dummy graphs."
   ]
  },
  {
   "cell_type": "code",
   "execution_count": 73,
   "metadata": {},
   "outputs": [
    {
     "data": {
      "text/plain": [
       "Text(0, 0.5, 'Order')"
      ]
     },
     "execution_count": 73,
     "metadata": {},
     "output_type": "execute_result"
    },
    {
     "data": {
      "image/png": "[encoded data removed]",
      "text/plain": [
       "<Figure size 576x288 with 1 Axes>"
      ]
     },
     "metadata": {
      "needs_background": "light"
     },
     "output_type": "display_data"
    }
   ],
   "source": [
    "matrix = np.flip(np.arange(1000)).reshape(10, -1)\n",
    "plt.figure(figsize=(8, 4))\n",
    "plt.imshow(matrix, aspect=\"auto\", cmap=\"gist_rainbow\")\n",
    "plt.xlabel(\"Pixel\")\n",
    "plt.ylabel(\"Order\")"
   ]
  },
  {
   "cell_type": "code",
   "execution_count": null,
   "metadata": {},
   "outputs": [],
   "source": []
  }
 ],
 "metadata": {
  "interpreter": {
   "hash": "16bd1ac509cec15e0f15308885d0d327f878f8e8c6bf767c6b4150ef364ec0fd"
  },
  "kernelspec": {
   "display_name": "Python 3.9.7 ('bsc_project')",
   "language": "python",
   "name": "python3"
  },
  "language_info": {
   "codemirror_mode": {
    "name": "ipython",
    "version": 3
   },
   "file_extension": ".py",
   "mimetype": "text/x-python",
   "name": "python",
   "nbconvert_exporter": "python",
   "pygments_lexer": "ipython3",
   "version": "3.9.7"
  },
  "orig_nbformat": 4
 },
 "nbformat": 4,
 "nbformat_minor": 2
}
