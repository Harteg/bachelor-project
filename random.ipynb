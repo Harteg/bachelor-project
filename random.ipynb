{
 "cells": [
  {
   "cell_type": "code",
   "execution_count": 4,
   "metadata": {},
   "outputs": [],
   "source": [
    "import numpy as np"
   ]
  },
  {
   "cell_type": "code",
   "execution_count": 5,
   "metadata": {},
   "outputs": [
    {
     "data": {
      "text/plain": [
       "1112"
      ]
     },
     "execution_count": 5,
     "metadata": {},
     "output_type": "execute_result"
    }
   ],
   "source": [
    "a = [[1512, 0],\n",
    "    [1412, 1],\n",
    "    [1312, 2], \n",
    "    [1212, 3],\n",
    "    [1112, 4],\n",
    "    [1012, 5],\n",
    "    [1900, 6],\n",
    "    [1600, 7] ]\n",
    "\n",
    "a = np.asarray(a)\n",
    "\n",
    "min(a[:, 0], key=lambda x:abs(x-1150))\n",
    "\n"
   ]
  },
  {
   "cell_type": "code",
   "execution_count": null,
   "metadata": {},
   "outputs": [],
   "source": []
  },
  {
   "cell_type": "code",
   "execution_count": null,
   "metadata": {},
   "outputs": [],
   "source": []
  }
 ],
 "metadata": {
  "interpreter": {
   "hash": "16bd1ac509cec15e0f15308885d0d327f878f8e8c6bf767c6b4150ef364ec0fd"
  },
  "kernelspec": {
   "display_name": "Python 3.9.7 ('bsc_project')",
   "language": "python",
   "name": "python3"
  },
  "language_info": {
   "codemirror_mode": {
    "name": "ipython",
    "version": 3
   },
   "file_extension": ".py",
   "mimetype": "text/x-python",
   "name": "python",
   "nbconvert_exporter": "python",
   "pygments_lexer": "ipython3",
   "version": "3.9.7"
  },
  "orig_nbformat": 4
 },
 "nbformat": 4,
 "nbformat_minor": 2
}
