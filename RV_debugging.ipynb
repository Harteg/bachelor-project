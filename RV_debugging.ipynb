{
 "cells": [
  {
   "cell_type": "code",
   "execution_count": 2,
   "metadata": {},
   "outputs": [],
   "source": [
    "# Import calibration functions\n",
    "# Run this to reimport without having to restart the whole notebook\n",
    "import radial_velocity_functions\n",
    "import importlib\n",
    "importlib.reload(radial_velocity_functions)\n",
    "from radial_velocity_functions import *"
   ]
  },
  {
   "cell_type": "code",
   "execution_count": 3,
   "metadata": {},
   "outputs": [],
   "source": [
    "\n",
    "import numpy as np\n",
    "import matplotlib.pyplot as plt\n",
    "import pandas as pd\n",
    "import matplotlib.pyplot as plt\n",
    "\n",
    "matplotlib.rcParams[\"text.usetex\"] = True\n",
    "matplotlib.rcParams[\"font.family\"] = \"serif\"\n",
    "matplotlib.rcParams[\"font.size\"] = 10 \n",
    "matplotlib.rcParams['figure.dpi'] = 150"
   ]
  },
  {
   "cell_type": "code",
   "execution_count": 7,
   "metadata": {},
   "outputs": [],
   "source": [
    "\n",
    "\n",
    "filename = r\"expres_tp/LFC_200907.1063.fits\"\n",
    "\n",
    "# Load data\n",
    "hdu1 = fits.open(filename)\n",
    "\n",
    "data = hdu1[1].data.copy()\n",
    "\n",
    "results = []\n",
    "# for order in range(0, len(data)):\n",
    "# for order in range(40, 76):\n",
    "order = 44\n",
    "\n",
    "data_spec       = data['spectrum'][order]\n",
    "data_spec_err   = data['uncertainty'][order]\n",
    "data_wavel      = data['wavelength'][order]\n",
    "\n",
    "# Find peaks\n",
    "peak_info = func_find_peaks(data_spec, 11, 0.15)\n",
    "peak_locs = peak_info[0]\n",
    "\n",
    "# Create data slices around each peak\n",
    "peak_index_ranges = get_peak_index_ranges(peak_locs)\n",
    "\n",
    "# Fit peak in each data slice\n",
    "peak_fits = fit_peaks(data_spec, data_spec_err, peak_index_ranges)\n",
    "\n",
    "# Get list of true wavelengths\n",
    "wavel_true = get_true_wavel(data_wavel, peak_locs)\n",
    "\n",
    "results.append([order, peak_fits, wavel_true, data_wavel[peak_locs]])\n",
    "\n",
    "\n",
    "# results = np.asarray(results, dtype=object)\n",
    "\n",
    "\n",
    "# CALIB: \n",
    "\n",
    "cols = ['A', \"A_err\", \"mu\", 'mu_err', 'sigma', 'sigma_err', 'c', 'c_err', \"chi2\", 'ndof', 'converged', 'index_start', 'index_end', 'p-value', 'P', 'P_err']\n",
    "peak_fits_df = pd.DataFrame(peak_fits, columns=cols)\n",
    "chi2_mask = (peak_fits_df.chi2 < 100)\n",
    "peak_fits = peak_fits[chi2_mask]\n",
    "wavel_true = wavel_true[chi2_mask]\n",
    "\n",
    "# Skip if out of peaks... \n",
    "if len(peak_fits) < 1:\n",
    "    print(\"yoooo no peaks \")\n",
    "\n",
    "# Take every other element\n",
    "x_interp = peak_fits[:,2][::2]\n",
    "y_interp = wavel_true[::2][:, 0]\n",
    "\n",
    "f2 = interp1d(x_interp, y_interp, kind='cubic') \n",
    "\n",
    "# Residuals for all x and y\n",
    "x_remain = peak_fits[:,2][1::2] # Take every other element starting at index 1 (so we get the other ones), and skip last item\n",
    "y_remain = wavel_true[1::2][:, 0]\n",
    "x_remain = x_remain[1:-1]  # first and last data points don't work well — exclude them\n",
    "y_remain = y_remain[1:-1]\n",
    "\n",
    "y_predicted = f2(x_remain)\n",
    "\n",
    "# res = y_predicted - y # residuals\n",
    "c = 299792458 # m/s\n",
    "res = (y_predicted - y_remain)/y_remain * c\n"
   ]
  },
  {
   "cell_type": "code",
   "execution_count": 13,
   "metadata": {},
   "outputs": [
    {
     "data": {
      "text/plain": [
       "238"
      ]
     },
     "execution_count": 13,
     "metadata": {},
     "output_type": "execute_result"
    }
   ],
   "source": []
  },
  {
   "cell_type": "code",
   "execution_count": null,
   "metadata": {},
   "outputs": [],
   "source": []
  }
 ],
 "metadata": {
  "interpreter": {
   "hash": "16bd1ac509cec15e0f15308885d0d327f878f8e8c6bf767c6b4150ef364ec0fd"
  },
  "kernelspec": {
   "display_name": "Python 3.9.7 ('bsc_project')",
   "language": "python",
   "name": "python3"
  },
  "language_info": {
   "codemirror_mode": {
    "name": "ipython",
    "version": 3
   },
   "file_extension": ".py",
   "mimetype": "text/x-python",
   "name": "python",
   "nbconvert_exporter": "python",
   "pygments_lexer": "ipython3",
   "version": "3.9.7"
  },
  "orig_nbformat": 4
 },
 "nbformat": 4,
 "nbformat_minor": 2
}
