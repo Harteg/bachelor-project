{
 "cells": [
  {
   "cell_type": "markdown",
   "metadata": {},
   "source": [
    "In this file I look at the errors on the spectra measurements, to see if they are correct."
   ]
  },
  {
   "cell_type": "code",
   "execution_count": 2,
   "metadata": {},
   "outputs": [],
   "source": [
    "# Import calibration functions\n",
    "# Run this to reimport without having to restart the whole notebook\n",
    "import radial_velocity_functions\n",
    "import importlib\n",
    "importlib.reload(radial_velocity_functions)\n",
    "from radial_velocity_functions import *"
   ]
  },
  {
   "cell_type": "code",
   "execution_count": 3,
   "metadata": {},
   "outputs": [],
   "source": [
    "import numpy as np\n",
    "import matplotlib.pyplot as plt\n",
    "from astropy.io import fits\n",
    "import tqdm as tqdm\n",
    "from tqdm import tqdm\n",
    "import pandas as pd\n",
    "from datetime import datetime\n",
    "from scipy.interpolate import interp1d\n",
    "\n",
    "# plt styles\n",
    "matplotlib.rcParams[\"text.usetex\"] = True\n",
    "matplotlib.rcParams[\"font.family\"] = \"serif\"\n",
    "matplotlib.rcParams[\"font.size\"] = 10 \n",
    "matplotlib.rcParams['figure.dpi'] = 150\n",
    "\n",
    "from os import walk"
   ]
  },
  {
   "cell_type": "markdown",
   "metadata": {},
   "source": [
    "First compute chi2 for different error factors"
   ]
  },
  {
   "cell_type": "code",
   "execution_count": null,
   "metadata": {},
   "outputs": [],
   "source": [
    "N_processes = 6\n",
    "\n",
    "# Get list of files and find all features\n",
    "# filenames = get_spectra_filenames_without_duplicate_dates(SPECTRA_PATH_34411)\n",
    "filenames = get_all_spectra_filenames(SPECTRA_PATH_34411)\n",
    "\n",
    "# Find features in all files \n",
    "features = []\n",
    "print(\"Finding features for all files...\")\n",
    "for filename in tqdm(filenames):\n",
    "    features.append(find_features(filename, log=False))\n",
    "\n",
    "\n",
    "# Setup coords :: Compute one list of coords\n",
    "all_coords = compute_coords(filenames)        \n",
    "        \n",
    "# Define function for each process\n",
    "def compute(coords):\n",
    "    x = coords[0]\n",
    "    y = coords[1]\n",
    "    matches = find_feature_matches2(features[x], features[y], log=False)\n",
    "    shifts = compute_all_feature_shifts(matches, log=False, return_extra=True)\n",
    "    return shifts\n",
    "\n",
    "\n",
    "if __name__ == '__main__':\n",
    "    import multiprocess\n",
    "    pool = multiprocess.Pool(processes = N_processes)\n",
    "\n",
    "    # With progress bar\n",
    "    result = []\n",
    "    print(\"Computing shifts for all files combinations...\")\n",
    "    for r in tqdm(pool.imap_unordered(compute, all_coords), total=len(all_coords)):\n",
    "        result.append(r)\n",
    "        \n",
    "    # Convert to DataFrame\n",
    "    df = pd.DataFrame(np.vstack(result))\n",
    "    df.columns = [\"i\", \"j\", \"rv [m/s]\", \"σ_rv [m/s]\", \"χ2\", \"λ_i [Å]\", \"λ_interp_i [Å]\", \"pixel_i\", \"order_i\", \"time_i\", \"λ_j [Å]\", \"λ_interp_j [Å]\", \"pixel_j\", \"order_j\", \"time_j\"]\n",
    "    \n",
    "    # Sort by i and j (needed because we compute in paralel)\n",
    "    df = df.sort_values(['i', 'j', 'λ_i [Å]']).reset_index(drop=True)\n",
    "\n",
    "    # Save\n",
    "    df.to_csv(\"data_files_for_simon/all_files_all_obs_k_feature_fits.csv\", index=False)\n",
    "    print(\"Finished!\")\n"
   ]
  }
 ],
 "metadata": {
  "interpreter": {
   "hash": "16bd1ac509cec15e0f15308885d0d327f878f8e8c6bf767c6b4150ef364ec0fd"
  },
  "kernelspec": {
   "display_name": "Python 3.9.7 ('bsc_project')",
   "language": "python",
   "name": "python3"
  },
  "language_info": {
   "codemirror_mode": {
    "name": "ipython",
    "version": 3
   },
   "file_extension": ".py",
   "mimetype": "text/x-python",
   "name": "python",
   "nbconvert_exporter": "python",
   "pygments_lexer": "ipython3",
   "version": "3.9.7"
  },
  "orig_nbformat": 4
 },
 "nbformat": 4,
 "nbformat_minor": 2
}
